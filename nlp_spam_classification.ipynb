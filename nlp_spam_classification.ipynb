{
 "cells": [
  {
   "cell_type": "markdown",
   "metadata": {},
   "source": [
    "# Overview"
   ]
  },
  {
   "cell_type": "markdown",
   "metadata": {},
   "source": [
    "This side project I created specifically to learn the basics of Natural Language Processing (NLP). As the first step, I import all required packages which are NLTK to do all NLP tasks, Pandas for data manipulation, and Plotnine for data visualization."
   ]
  },
  {
   "cell_type": "code",
   "execution_count": 1,
   "metadata": {},
   "outputs": [
    {
     "name": "stderr",
     "output_type": "stream",
     "text": [
      "c:\\users\\usuario\\appdata\\local\\programs\\python\\python36\\lib\\site-packages\\numpy\\_distributor_init.py:32: UserWarning: loaded more than 1 DLL from .libs:\n",
      "c:\\users\\usuario\\appdata\\local\\programs\\python\\python36\\lib\\site-packages\\numpy\\.libs\\libopenblas.BNVRK7633HSX7YVO2TADGR4A5KEKXJAW.gfortran-win_amd64.dll\n",
      "c:\\users\\usuario\\appdata\\local\\programs\\python\\python36\\lib\\site-packages\\numpy\\.libs\\libopenblas.PYQHXLVVQ7VESDPUVUADXEVJOBGHJPAY.gfortran-win_amd64.dll\n",
      "  stacklevel=1)\n"
     ]
    }
   ],
   "source": [
    "import nltk\n",
    "import pandas as pd\n",
    "from plotnine import * "
   ]
  },
  {
   "cell_type": "markdown",
   "metadata": {},
   "source": [
    "After importing NLTK packages, we also need to run nltk.download() function to download all kinds of corpuses and functions to the local computer"
   ]
  },
  {
   "cell_type": "code",
   "execution_count": 2,
   "metadata": {},
   "outputs": [
    {
     "name": "stdout",
     "output_type": "stream",
     "text": [
      "showing info https://raw.githubusercontent.com/nltk/nltk_data/gh-pages/index.xml\n"
     ]
    },
    {
     "data": {
      "text/plain": [
       "True"
      ]
     },
     "execution_count": 2,
     "metadata": {},
     "output_type": "execute_result"
    }
   ],
   "source": [
    "nltk.download()"
   ]
  },
  {
   "cell_type": "markdown",
   "metadata": {},
   "source": [
    "# Dataset"
   ]
  },
  {
   "cell_type": "markdown",
   "metadata": {},
   "source": [
    "For this project I only use one dataset which is the collection of SMS labeled messages (ham or spam). You can download the dataset here: https://www.kaggle.com/patil4444/filtering-mobile-phone-spam"
   ]
  },
  {
   "cell_type": "code",
   "execution_count": 3,
   "metadata": {},
   "outputs": [
    {
     "data": {
      "text/html": [
       "<div>\n",
       "<style scoped>\n",
       "    .dataframe tbody tr th:only-of-type {\n",
       "        vertical-align: middle;\n",
       "    }\n",
       "\n",
       "    .dataframe tbody tr th {\n",
       "        vertical-align: top;\n",
       "    }\n",
       "\n",
       "    .dataframe thead th {\n",
       "        text-align: right;\n",
       "    }\n",
       "</style>\n",
       "<table border=\"1\" class=\"dataframe\">\n",
       "  <thead>\n",
       "    <tr style=\"text-align: right;\">\n",
       "      <th></th>\n",
       "      <th>type</th>\n",
       "      <th>text</th>\n",
       "    </tr>\n",
       "  </thead>\n",
       "  <tbody>\n",
       "    <tr>\n",
       "      <th>0</th>\n",
       "      <td>ham</td>\n",
       "      <td>Hope you are having a good week. Just checking in</td>\n",
       "    </tr>\n",
       "    <tr>\n",
       "      <th>1</th>\n",
       "      <td>ham</td>\n",
       "      <td>K..give back my thanks.</td>\n",
       "    </tr>\n",
       "    <tr>\n",
       "      <th>2</th>\n",
       "      <td>ham</td>\n",
       "      <td>Am also doing in cbe only. But have to pay.</td>\n",
       "    </tr>\n",
       "    <tr>\n",
       "      <th>3</th>\n",
       "      <td>spam</td>\n",
       "      <td>complimentary 4 STAR Ibiza Holiday or £10,000 ...</td>\n",
       "    </tr>\n",
       "    <tr>\n",
       "      <th>4</th>\n",
       "      <td>spam</td>\n",
       "      <td>okmail: Dear Dave this is your final notice to...</td>\n",
       "    </tr>\n",
       "  </tbody>\n",
       "</table>\n",
       "</div>"
      ],
      "text/plain": [
       "   type                                               text\n",
       "0   ham  Hope you are having a good week. Just checking in\n",
       "1   ham                            K..give back my thanks.\n",
       "2   ham        Am also doing in cbe only. But have to pay.\n",
       "3  spam  complimentary 4 STAR Ibiza Holiday or £10,000 ...\n",
       "4  spam  okmail: Dear Dave this is your final notice to..."
      ]
     },
     "execution_count": 3,
     "metadata": {},
     "output_type": "execute_result"
    }
   ],
   "source": [
    "df = pd.read_csv(\"sms_spam.csv\") \n",
    "\n",
    "df.head()"
   ]
  },
  {
   "cell_type": "markdown",
   "metadata": {},
   "source": [
    "# Exploratory data analysis"
   ]
  },
  {
   "cell_type": "code",
   "execution_count": 4,
   "metadata": {},
   "outputs": [
    {
     "data": {
      "image/png": "[encoded data removed]",
      "text/plain": [
       "<Figure size 640x480 with 1 Axes>"
      ]
     },
     "metadata": {},
     "output_type": "display_data"
    },
    {
     "data": {
      "text/plain": [
       "<ggplot: (120022986963)>"
      ]
     },
     "execution_count": 4,
     "metadata": {},
     "output_type": "execute_result"
    }
   ],
   "source": [
    "#Check the distribution of both classes\n",
    "(ggplot(df, aes('type', fill='type'))\n",
    " + geom_bar()\n",
    " + geom_text(\n",
    "     aes(label='stat(prop)*100', group=1),\n",
    "     stat='count',\n",
    "     nudge_y=0.125,\n",
    "     va='bottom',\n",
    "     format_string='{:.1f}%'\n",
    " )\n",
    ")"
   ]
  },
  {
   "cell_type": "markdown",
   "metadata": {},
   "source": [
    "# Data preparation"
   ]
  },
  {
   "cell_type": "markdown",
   "metadata": {},
   "source": [
    "### Removing punctuation"
   ]
  },
  {
   "cell_type": "code",
   "execution_count": 5,
   "metadata": {},
   "outputs": [
    {
     "data": {
      "text/plain": [
       "'!\"#$%&\\'()*+,-./:;<=>?@[\\\\]^_`{|}~'"
      ]
     },
     "execution_count": 5,
     "metadata": {},
     "output_type": "execute_result"
    }
   ],
   "source": [
    "import string\n",
    "string.punctuation"
   ]
  },
  {
   "cell_type": "code",
   "execution_count": 6,
   "metadata": {},
   "outputs": [
    {
     "data": {
      "text/html": [
       "<div>\n",
       "<style scoped>\n",
       "    .dataframe tbody tr th:only-of-type {\n",
       "        vertical-align: middle;\n",
       "    }\n",
       "\n",
       "    .dataframe tbody tr th {\n",
       "        vertical-align: top;\n",
       "    }\n",
       "\n",
       "    .dataframe thead th {\n",
       "        text-align: right;\n",
       "    }\n",
       "</style>\n",
       "<table border=\"1\" class=\"dataframe\">\n",
       "  <thead>\n",
       "    <tr style=\"text-align: right;\">\n",
       "      <th></th>\n",
       "      <th>type</th>\n",
       "      <th>text</th>\n",
       "      <th>text_clean</th>\n",
       "    </tr>\n",
       "  </thead>\n",
       "  <tbody>\n",
       "    <tr>\n",
       "      <th>0</th>\n",
       "      <td>ham</td>\n",
       "      <td>Hope you are having a good week. Just checking in</td>\n",
       "      <td>Hope you are having a good week Just checking in</td>\n",
       "    </tr>\n",
       "    <tr>\n",
       "      <th>1</th>\n",
       "      <td>ham</td>\n",
       "      <td>K..give back my thanks.</td>\n",
       "      <td>Kgive back my thanks</td>\n",
       "    </tr>\n",
       "    <tr>\n",
       "      <th>2</th>\n",
       "      <td>ham</td>\n",
       "      <td>Am also doing in cbe only. But have to pay.</td>\n",
       "      <td>Am also doing in cbe only But have to pay</td>\n",
       "    </tr>\n",
       "    <tr>\n",
       "      <th>3</th>\n",
       "      <td>spam</td>\n",
       "      <td>complimentary 4 STAR Ibiza Holiday or £10,000 ...</td>\n",
       "      <td>complimentary 4 STAR Ibiza Holiday or £10000 c...</td>\n",
       "    </tr>\n",
       "    <tr>\n",
       "      <th>4</th>\n",
       "      <td>spam</td>\n",
       "      <td>okmail: Dear Dave this is your final notice to...</td>\n",
       "      <td>okmail Dear Dave this is your final notice to ...</td>\n",
       "    </tr>\n",
       "  </tbody>\n",
       "</table>\n",
       "</div>"
      ],
      "text/plain": [
       "   type                                               text  \\\n",
       "0   ham  Hope you are having a good week. Just checking in   \n",
       "1   ham                            K..give back my thanks.   \n",
       "2   ham        Am also doing in cbe only. But have to pay.   \n",
       "3  spam  complimentary 4 STAR Ibiza Holiday or £10,000 ...   \n",
       "4  spam  okmail: Dear Dave this is your final notice to...   \n",
       "\n",
       "                                          text_clean  \n",
       "0   Hope you are having a good week Just checking in  \n",
       "1                               Kgive back my thanks  \n",
       "2          Am also doing in cbe only But have to pay  \n",
       "3  complimentary 4 STAR Ibiza Holiday or £10000 c...  \n",
       "4  okmail Dear Dave this is your final notice to ...  "
      ]
     },
     "execution_count": 6,
     "metadata": {},
     "output_type": "execute_result"
    }
   ],
   "source": [
    "def remove_punct(text):\n",
    "    text_nopunct = \"\".join([char for char in text if char not in string.punctuation])\n",
    "    return text_nopunct\n",
    "\n",
    "df['text_clean'] = df['text'].apply(lambda x: remove_punct(x))\n",
    "\n",
    "df.head()"
   ]
  },
  {
   "cell_type": "markdown",
   "metadata": {},
   "source": [
    "### Tokenization "
   ]
  },
  {
   "cell_type": "code",
   "execution_count": 7,
   "metadata": {},
   "outputs": [],
   "source": [
    "import re"
   ]
  },
  {
   "cell_type": "code",
   "execution_count": 8,
   "metadata": {},
   "outputs": [
    {
     "data": {
      "text/html": [
       "<div>\n",
       "<style scoped>\n",
       "    .dataframe tbody tr th:only-of-type {\n",
       "        vertical-align: middle;\n",
       "    }\n",
       "\n",
       "    .dataframe tbody tr th {\n",
       "        vertical-align: top;\n",
       "    }\n",
       "\n",
       "    .dataframe thead th {\n",
       "        text-align: right;\n",
       "    }\n",
       "</style>\n",
       "<table border=\"1\" class=\"dataframe\">\n",
       "  <thead>\n",
       "    <tr style=\"text-align: right;\">\n",
       "      <th></th>\n",
       "      <th>type</th>\n",
       "      <th>text</th>\n",
       "      <th>text_clean</th>\n",
       "      <th>text_tokenized</th>\n",
       "    </tr>\n",
       "  </thead>\n",
       "  <tbody>\n",
       "    <tr>\n",
       "      <th>0</th>\n",
       "      <td>ham</td>\n",
       "      <td>Hope you are having a good week. Just checking in</td>\n",
       "      <td>Hope you are having a good week Just checking in</td>\n",
       "      <td>[hope, you, are, having, a, good, week, just, ...</td>\n",
       "    </tr>\n",
       "    <tr>\n",
       "      <th>1</th>\n",
       "      <td>ham</td>\n",
       "      <td>K..give back my thanks.</td>\n",
       "      <td>Kgive back my thanks</td>\n",
       "      <td>[kgive, back, my, thanks]</td>\n",
       "    </tr>\n",
       "    <tr>\n",
       "      <th>2</th>\n",
       "      <td>ham</td>\n",
       "      <td>Am also doing in cbe only. But have to pay.</td>\n",
       "      <td>Am also doing in cbe only But have to pay</td>\n",
       "      <td>[am, also, doing, in, cbe, only, but, have, to...</td>\n",
       "    </tr>\n",
       "    <tr>\n",
       "      <th>3</th>\n",
       "      <td>spam</td>\n",
       "      <td>complimentary 4 STAR Ibiza Holiday or £10,000 ...</td>\n",
       "      <td>complimentary 4 STAR Ibiza Holiday or £10000 c...</td>\n",
       "      <td>[complimentary, 4, star, ibiza, holiday, or, 1...</td>\n",
       "    </tr>\n",
       "    <tr>\n",
       "      <th>4</th>\n",
       "      <td>spam</td>\n",
       "      <td>okmail: Dear Dave this is your final notice to...</td>\n",
       "      <td>okmail Dear Dave this is your final notice to ...</td>\n",
       "      <td>[okmail, dear, dave, this, is, your, final, no...</td>\n",
       "    </tr>\n",
       "  </tbody>\n",
       "</table>\n",
       "</div>"
      ],
      "text/plain": [
       "   type                                               text  \\\n",
       "0   ham  Hope you are having a good week. Just checking in   \n",
       "1   ham                            K..give back my thanks.   \n",
       "2   ham        Am also doing in cbe only. But have to pay.   \n",
       "3  spam  complimentary 4 STAR Ibiza Holiday or £10,000 ...   \n",
       "4  spam  okmail: Dear Dave this is your final notice to...   \n",
       "\n",
       "                                          text_clean  \\\n",
       "0   Hope you are having a good week Just checking in   \n",
       "1                               Kgive back my thanks   \n",
       "2          Am also doing in cbe only But have to pay   \n",
       "3  complimentary 4 STAR Ibiza Holiday or £10000 c...   \n",
       "4  okmail Dear Dave this is your final notice to ...   \n",
       "\n",
       "                                      text_tokenized  \n",
       "0  [hope, you, are, having, a, good, week, just, ...  \n",
       "1                          [kgive, back, my, thanks]  \n",
       "2  [am, also, doing, in, cbe, only, but, have, to...  \n",
       "3  [complimentary, 4, star, ibiza, holiday, or, 1...  \n",
       "4  [okmail, dear, dave, this, is, your, final, no...  "
      ]
     },
     "execution_count": 8,
     "metadata": {},
     "output_type": "execute_result"
    }
   ],
   "source": [
    "def tokenize(text):\n",
    "    tokens = re.split('\\W+', text)\n",
    "    return tokens\n",
    "\n",
    "df['text_tokenized'] = df['text_clean'].apply(lambda x: tokenize(x.lower()))\n",
    "\n",
    "df.head()"
   ]
  },
  {
   "cell_type": "markdown",
   "metadata": {},
   "source": [
    "### Removing stopwords"
   ]
  },
  {
   "cell_type": "code",
   "execution_count": 9,
   "metadata": {},
   "outputs": [],
   "source": [
    "stopword = nltk.corpus.stopwords.words('english')"
   ]
  },
  {
   "cell_type": "code",
   "execution_count": 10,
   "metadata": {},
   "outputs": [
    {
     "data": {
      "text/html": [
       "<div>\n",
       "<style scoped>\n",
       "    .dataframe tbody tr th:only-of-type {\n",
       "        vertical-align: middle;\n",
       "    }\n",
       "\n",
       "    .dataframe tbody tr th {\n",
       "        vertical-align: top;\n",
       "    }\n",
       "\n",
       "    .dataframe thead th {\n",
       "        text-align: right;\n",
       "    }\n",
       "</style>\n",
       "<table border=\"1\" class=\"dataframe\">\n",
       "  <thead>\n",
       "    <tr style=\"text-align: right;\">\n",
       "      <th></th>\n",
       "      <th>type</th>\n",
       "      <th>text</th>\n",
       "      <th>text_clean</th>\n",
       "      <th>text_tokenized</th>\n",
       "      <th>text_without_stopwords</th>\n",
       "    </tr>\n",
       "  </thead>\n",
       "  <tbody>\n",
       "    <tr>\n",
       "      <th>0</th>\n",
       "      <td>ham</td>\n",
       "      <td>Hope you are having a good week. Just checking in</td>\n",
       "      <td>Hope you are having a good week Just checking in</td>\n",
       "      <td>[hope, you, are, having, a, good, week, just, ...</td>\n",
       "      <td>[hope, good, week, checking]</td>\n",
       "    </tr>\n",
       "    <tr>\n",
       "      <th>1</th>\n",
       "      <td>ham</td>\n",
       "      <td>K..give back my thanks.</td>\n",
       "      <td>Kgive back my thanks</td>\n",
       "      <td>[kgive, back, my, thanks]</td>\n",
       "      <td>[kgive, back, thanks]</td>\n",
       "    </tr>\n",
       "    <tr>\n",
       "      <th>2</th>\n",
       "      <td>ham</td>\n",
       "      <td>Am also doing in cbe only. But have to pay.</td>\n",
       "      <td>Am also doing in cbe only But have to pay</td>\n",
       "      <td>[am, also, doing, in, cbe, only, but, have, to...</td>\n",
       "      <td>[also, cbe, pay]</td>\n",
       "    </tr>\n",
       "    <tr>\n",
       "      <th>3</th>\n",
       "      <td>spam</td>\n",
       "      <td>complimentary 4 STAR Ibiza Holiday or £10,000 ...</td>\n",
       "      <td>complimentary 4 STAR Ibiza Holiday or £10000 c...</td>\n",
       "      <td>[complimentary, 4, star, ibiza, holiday, or, 1...</td>\n",
       "      <td>[complimentary, 4, star, ibiza, holiday, 10000...</td>\n",
       "    </tr>\n",
       "    <tr>\n",
       "      <th>4</th>\n",
       "      <td>spam</td>\n",
       "      <td>okmail: Dear Dave this is your final notice to...</td>\n",
       "      <td>okmail Dear Dave this is your final notice to ...</td>\n",
       "      <td>[okmail, dear, dave, this, is, your, final, no...</td>\n",
       "      <td>[okmail, dear, dave, final, notice, collect, 4...</td>\n",
       "    </tr>\n",
       "  </tbody>\n",
       "</table>\n",
       "</div>"
      ],
      "text/plain": [
       "   type                                               text  \\\n",
       "0   ham  Hope you are having a good week. Just checking in   \n",
       "1   ham                            K..give back my thanks.   \n",
       "2   ham        Am also doing in cbe only. But have to pay.   \n",
       "3  spam  complimentary 4 STAR Ibiza Holiday or £10,000 ...   \n",
       "4  spam  okmail: Dear Dave this is your final notice to...   \n",
       "\n",
       "                                          text_clean  \\\n",
       "0   Hope you are having a good week Just checking in   \n",
       "1                               Kgive back my thanks   \n",
       "2          Am also doing in cbe only But have to pay   \n",
       "3  complimentary 4 STAR Ibiza Holiday or £10000 c...   \n",
       "4  okmail Dear Dave this is your final notice to ...   \n",
       "\n",
       "                                      text_tokenized  \\\n",
       "0  [hope, you, are, having, a, good, week, just, ...   \n",
       "1                          [kgive, back, my, thanks]   \n",
       "2  [am, also, doing, in, cbe, only, but, have, to...   \n",
       "3  [complimentary, 4, star, ibiza, holiday, or, 1...   \n",
       "4  [okmail, dear, dave, this, is, your, final, no...   \n",
       "\n",
       "                              text_without_stopwords  \n",
       "0                       [hope, good, week, checking]  \n",
       "1                              [kgive, back, thanks]  \n",
       "2                                   [also, cbe, pay]  \n",
       "3  [complimentary, 4, star, ibiza, holiday, 10000...  \n",
       "4  [okmail, dear, dave, final, notice, collect, 4...  "
      ]
     },
     "execution_count": 10,
     "metadata": {},
     "output_type": "execute_result"
    }
   ],
   "source": [
    "def remove_stopwords(tokenized_list):\n",
    "    text = [word for word in tokenized_list if word not in stopword]\n",
    "    return text\n",
    "\n",
    "df['text_without_stopwords'] = df['text_tokenized'].apply(lambda x: remove_stopwords(x))\n",
    "\n",
    "df.head()"
   ]
  },
  {
   "cell_type": "markdown",
   "metadata": {},
   "source": [
    "### Reducing the inflectional forms of each word"
   ]
  },
  {
   "cell_type": "markdown",
   "metadata": {},
   "source": [
    "There are two different techniques to reach this goal: stemming and lemmatization. Stemming is a technique that chops off the end of words in (ex: argue, argued, argues, arguing, and argus to argu) while lemmatization use a vocabulary and morphological analysis of words to convert the word beck to its normal form (ex: geese to goose)."
   ]
  },
  {
   "cell_type": "markdown",
   "metadata": {},
   "source": [
    "#### Stemming "
   ]
  },
  {
   "cell_type": "code",
   "execution_count": 11,
   "metadata": {},
   "outputs": [],
   "source": [
    "ps = nltk.PorterStemmer()"
   ]
  },
  {
   "cell_type": "code",
   "execution_count": 12,
   "metadata": {},
   "outputs": [
    {
     "data": {
      "text/html": [
       "<div>\n",
       "<style scoped>\n",
       "    .dataframe tbody tr th:only-of-type {\n",
       "        vertical-align: middle;\n",
       "    }\n",
       "\n",
       "    .dataframe tbody tr th {\n",
       "        vertical-align: top;\n",
       "    }\n",
       "\n",
       "    .dataframe thead th {\n",
       "        text-align: right;\n",
       "    }\n",
       "</style>\n",
       "<table border=\"1\" class=\"dataframe\">\n",
       "  <thead>\n",
       "    <tr style=\"text-align: right;\">\n",
       "      <th></th>\n",
       "      <th>type</th>\n",
       "      <th>text</th>\n",
       "      <th>text_clean</th>\n",
       "      <th>text_tokenized</th>\n",
       "      <th>text_without_stopwords</th>\n",
       "      <th>text_stemmed</th>\n",
       "    </tr>\n",
       "  </thead>\n",
       "  <tbody>\n",
       "    <tr>\n",
       "      <th>0</th>\n",
       "      <td>ham</td>\n",
       "      <td>Hope you are having a good week. Just checking in</td>\n",
       "      <td>Hope you are having a good week Just checking in</td>\n",
       "      <td>[hope, you, are, having, a, good, week, just, ...</td>\n",
       "      <td>[hope, good, week, checking]</td>\n",
       "      <td>[hope, good, week, check]</td>\n",
       "    </tr>\n",
       "    <tr>\n",
       "      <th>1</th>\n",
       "      <td>ham</td>\n",
       "      <td>K..give back my thanks.</td>\n",
       "      <td>Kgive back my thanks</td>\n",
       "      <td>[kgive, back, my, thanks]</td>\n",
       "      <td>[kgive, back, thanks]</td>\n",
       "      <td>[kgive, back, thank]</td>\n",
       "    </tr>\n",
       "    <tr>\n",
       "      <th>2</th>\n",
       "      <td>ham</td>\n",
       "      <td>Am also doing in cbe only. But have to pay.</td>\n",
       "      <td>Am also doing in cbe only But have to pay</td>\n",
       "      <td>[am, also, doing, in, cbe, only, but, have, to...</td>\n",
       "      <td>[also, cbe, pay]</td>\n",
       "      <td>[also, cbe, pay]</td>\n",
       "    </tr>\n",
       "    <tr>\n",
       "      <th>3</th>\n",
       "      <td>spam</td>\n",
       "      <td>complimentary 4 STAR Ibiza Holiday or £10,000 ...</td>\n",
       "      <td>complimentary 4 STAR Ibiza Holiday or £10000 c...</td>\n",
       "      <td>[complimentary, 4, star, ibiza, holiday, or, 1...</td>\n",
       "      <td>[complimentary, 4, star, ibiza, holiday, 10000...</td>\n",
       "      <td>[complimentari, 4, star, ibiza, holiday, 10000...</td>\n",
       "    </tr>\n",
       "    <tr>\n",
       "      <th>4</th>\n",
       "      <td>spam</td>\n",
       "      <td>okmail: Dear Dave this is your final notice to...</td>\n",
       "      <td>okmail Dear Dave this is your final notice to ...</td>\n",
       "      <td>[okmail, dear, dave, this, is, your, final, no...</td>\n",
       "      <td>[okmail, dear, dave, final, notice, collect, 4...</td>\n",
       "      <td>[okmail, dear, dave, final, notic, collect, 4,...</td>\n",
       "    </tr>\n",
       "  </tbody>\n",
       "</table>\n",
       "</div>"
      ],
      "text/plain": [
       "   type                                               text  \\\n",
       "0   ham  Hope you are having a good week. Just checking in   \n",
       "1   ham                            K..give back my thanks.   \n",
       "2   ham        Am also doing in cbe only. But have to pay.   \n",
       "3  spam  complimentary 4 STAR Ibiza Holiday or £10,000 ...   \n",
       "4  spam  okmail: Dear Dave this is your final notice to...   \n",
       "\n",
       "                                          text_clean  \\\n",
       "0   Hope you are having a good week Just checking in   \n",
       "1                               Kgive back my thanks   \n",
       "2          Am also doing in cbe only But have to pay   \n",
       "3  complimentary 4 STAR Ibiza Holiday or £10000 c...   \n",
       "4  okmail Dear Dave this is your final notice to ...   \n",
       "\n",
       "                                      text_tokenized  \\\n",
       "0  [hope, you, are, having, a, good, week, just, ...   \n",
       "1                          [kgive, back, my, thanks]   \n",
       "2  [am, also, doing, in, cbe, only, but, have, to...   \n",
       "3  [complimentary, 4, star, ibiza, holiday, or, 1...   \n",
       "4  [okmail, dear, dave, this, is, your, final, no...   \n",
       "\n",
       "                              text_without_stopwords  \\\n",
       "0                       [hope, good, week, checking]   \n",
       "1                              [kgive, back, thanks]   \n",
       "2                                   [also, cbe, pay]   \n",
       "3  [complimentary, 4, star, ibiza, holiday, 10000...   \n",
       "4  [okmail, dear, dave, final, notice, collect, 4...   \n",
       "\n",
       "                                        text_stemmed  \n",
       "0                          [hope, good, week, check]  \n",
       "1                               [kgive, back, thank]  \n",
       "2                                   [also, cbe, pay]  \n",
       "3  [complimentari, 4, star, ibiza, holiday, 10000...  \n",
       "4  [okmail, dear, dave, final, notic, collect, 4,...  "
      ]
     },
     "execution_count": 12,
     "metadata": {},
     "output_type": "execute_result"
    }
   ],
   "source": [
    "def stemming(tokenized_text):\n",
    "    text = [ps.stem(word) for word in tokenized_text]\n",
    "    return text\n",
    "\n",
    "df['text_stemmed'] = df['text_without_stopwords'].apply(lambda x: stemming(x))\n",
    "\n",
    "df.head()"
   ]
  },
  {
   "cell_type": "code",
   "execution_count": 13,
   "metadata": {},
   "outputs": [],
   "source": [
    "wn = nltk.WordNetLemmatizer()"
   ]
  },
  {
   "cell_type": "markdown",
   "metadata": {},
   "source": [
    "#### Lemmatizing "
   ]
  },
  {
   "cell_type": "code",
   "execution_count": 14,
   "metadata": {},
   "outputs": [
    {
     "data": {
      "text/html": [
       "<div>\n",
       "<style scoped>\n",
       "    .dataframe tbody tr th:only-of-type {\n",
       "        vertical-align: middle;\n",
       "    }\n",
       "\n",
       "    .dataframe tbody tr th {\n",
       "        vertical-align: top;\n",
       "    }\n",
       "\n",
       "    .dataframe thead th {\n",
       "        text-align: right;\n",
       "    }\n",
       "</style>\n",
       "<table border=\"1\" class=\"dataframe\">\n",
       "  <thead>\n",
       "    <tr style=\"text-align: right;\">\n",
       "      <th></th>\n",
       "      <th>type</th>\n",
       "      <th>text</th>\n",
       "      <th>text_clean</th>\n",
       "      <th>text_tokenized</th>\n",
       "      <th>text_without_stopwords</th>\n",
       "      <th>text_stemmed</th>\n",
       "      <th>text_lemmatized</th>\n",
       "    </tr>\n",
       "  </thead>\n",
       "  <tbody>\n",
       "    <tr>\n",
       "      <th>0</th>\n",
       "      <td>ham</td>\n",
       "      <td>Hope you are having a good week. Just checking in</td>\n",
       "      <td>Hope you are having a good week Just checking in</td>\n",
       "      <td>[hope, you, are, having, a, good, week, just, ...</td>\n",
       "      <td>[hope, good, week, checking]</td>\n",
       "      <td>[hope, good, week, check]</td>\n",
       "      <td>[hope, good, week, checking]</td>\n",
       "    </tr>\n",
       "    <tr>\n",
       "      <th>1</th>\n",
       "      <td>ham</td>\n",
       "      <td>K..give back my thanks.</td>\n",
       "      <td>Kgive back my thanks</td>\n",
       "      <td>[kgive, back, my, thanks]</td>\n",
       "      <td>[kgive, back, thanks]</td>\n",
       "      <td>[kgive, back, thank]</td>\n",
       "      <td>[kgive, back, thanks]</td>\n",
       "    </tr>\n",
       "    <tr>\n",
       "      <th>2</th>\n",
       "      <td>ham</td>\n",
       "      <td>Am also doing in cbe only. But have to pay.</td>\n",
       "      <td>Am also doing in cbe only But have to pay</td>\n",
       "      <td>[am, also, doing, in, cbe, only, but, have, to...</td>\n",
       "      <td>[also, cbe, pay]</td>\n",
       "      <td>[also, cbe, pay]</td>\n",
       "      <td>[also, cbe, pay]</td>\n",
       "    </tr>\n",
       "    <tr>\n",
       "      <th>3</th>\n",
       "      <td>spam</td>\n",
       "      <td>complimentary 4 STAR Ibiza Holiday or £10,000 ...</td>\n",
       "      <td>complimentary 4 STAR Ibiza Holiday or £10000 c...</td>\n",
       "      <td>[complimentary, 4, star, ibiza, holiday, or, 1...</td>\n",
       "      <td>[complimentary, 4, star, ibiza, holiday, 10000...</td>\n",
       "      <td>[complimentari, 4, star, ibiza, holiday, 10000...</td>\n",
       "      <td>[complimentary, 4, star, ibiza, holiday, 10000...</td>\n",
       "    </tr>\n",
       "    <tr>\n",
       "      <th>4</th>\n",
       "      <td>spam</td>\n",
       "      <td>okmail: Dear Dave this is your final notice to...</td>\n",
       "      <td>okmail Dear Dave this is your final notice to ...</td>\n",
       "      <td>[okmail, dear, dave, this, is, your, final, no...</td>\n",
       "      <td>[okmail, dear, dave, final, notice, collect, 4...</td>\n",
       "      <td>[okmail, dear, dave, final, notic, collect, 4,...</td>\n",
       "      <td>[okmail, dear, dave, final, notice, collect, 4...</td>\n",
       "    </tr>\n",
       "    <tr>\n",
       "      <th>5</th>\n",
       "      <td>ham</td>\n",
       "      <td>Aiya we discuss later lar... Pick u up at 4 is...</td>\n",
       "      <td>Aiya we discuss later lar Pick u up at 4 is it</td>\n",
       "      <td>[aiya, we, discuss, later, lar, pick, u, up, a...</td>\n",
       "      <td>[aiya, discuss, later, lar, pick, u, 4]</td>\n",
       "      <td>[aiya, discuss, later, lar, pick, u, 4]</td>\n",
       "      <td>[aiya, discus, later, lar, pick, u, 4]</td>\n",
       "    </tr>\n",
       "    <tr>\n",
       "      <th>6</th>\n",
       "      <td>ham</td>\n",
       "      <td>Are you this much buzy</td>\n",
       "      <td>Are you this much buzy</td>\n",
       "      <td>[are, you, this, much, buzy]</td>\n",
       "      <td>[much, buzy]</td>\n",
       "      <td>[much, buzi]</td>\n",
       "      <td>[much, buzy]</td>\n",
       "    </tr>\n",
       "    <tr>\n",
       "      <th>7</th>\n",
       "      <td>ham</td>\n",
       "      <td>Please ask mummy to call father</td>\n",
       "      <td>Please ask mummy to call father</td>\n",
       "      <td>[please, ask, mummy, to, call, father]</td>\n",
       "      <td>[please, ask, mummy, call, father]</td>\n",
       "      <td>[pleas, ask, mummi, call, father]</td>\n",
       "      <td>[please, ask, mummy, call, father]</td>\n",
       "    </tr>\n",
       "    <tr>\n",
       "      <th>8</th>\n",
       "      <td>spam</td>\n",
       "      <td>Marvel Mobile Play the official Ultimate Spide...</td>\n",
       "      <td>Marvel Mobile Play the official Ultimate Spide...</td>\n",
       "      <td>[marvel, mobile, play, the, official, ultimate...</td>\n",
       "      <td>[marvel, mobile, play, official, ultimate, spi...</td>\n",
       "      <td>[marvel, mobil, play, offici, ultim, spiderman...</td>\n",
       "      <td>[marvel, mobile, play, official, ultimate, spi...</td>\n",
       "    </tr>\n",
       "    <tr>\n",
       "      <th>9</th>\n",
       "      <td>ham</td>\n",
       "      <td>fyi I'm at usf now, swing by the room whenever</td>\n",
       "      <td>fyi Im at usf now swing by the room whenever</td>\n",
       "      <td>[fyi, im, at, usf, now, swing, by, the, room, ...</td>\n",
       "      <td>[fyi, im, usf, swing, room, whenever]</td>\n",
       "      <td>[fyi, im, usf, swing, room, whenev]</td>\n",
       "      <td>[fyi, im, usf, swing, room, whenever]</td>\n",
       "    </tr>\n",
       "  </tbody>\n",
       "</table>\n",
       "</div>"
      ],
      "text/plain": [
       "   type                                               text  \\\n",
       "0   ham  Hope you are having a good week. Just checking in   \n",
       "1   ham                            K..give back my thanks.   \n",
       "2   ham        Am also doing in cbe only. But have to pay.   \n",
       "3  spam  complimentary 4 STAR Ibiza Holiday or £10,000 ...   \n",
       "4  spam  okmail: Dear Dave this is your final notice to...   \n",
       "5   ham  Aiya we discuss later lar... Pick u up at 4 is...   \n",
       "6   ham                             Are you this much buzy   \n",
       "7   ham                    Please ask mummy to call father   \n",
       "8  spam  Marvel Mobile Play the official Ultimate Spide...   \n",
       "9   ham     fyi I'm at usf now, swing by the room whenever   \n",
       "\n",
       "                                          text_clean  \\\n",
       "0   Hope you are having a good week Just checking in   \n",
       "1                               Kgive back my thanks   \n",
       "2          Am also doing in cbe only But have to pay   \n",
       "3  complimentary 4 STAR Ibiza Holiday or £10000 c...   \n",
       "4  okmail Dear Dave this is your final notice to ...   \n",
       "5     Aiya we discuss later lar Pick u up at 4 is it   \n",
       "6                             Are you this much buzy   \n",
       "7                    Please ask mummy to call father   \n",
       "8  Marvel Mobile Play the official Ultimate Spide...   \n",
       "9       fyi Im at usf now swing by the room whenever   \n",
       "\n",
       "                                      text_tokenized  \\\n",
       "0  [hope, you, are, having, a, good, week, just, ...   \n",
       "1                          [kgive, back, my, thanks]   \n",
       "2  [am, also, doing, in, cbe, only, but, have, to...   \n",
       "3  [complimentary, 4, star, ibiza, holiday, or, 1...   \n",
       "4  [okmail, dear, dave, this, is, your, final, no...   \n",
       "5  [aiya, we, discuss, later, lar, pick, u, up, a...   \n",
       "6                       [are, you, this, much, buzy]   \n",
       "7             [please, ask, mummy, to, call, father]   \n",
       "8  [marvel, mobile, play, the, official, ultimate...   \n",
       "9  [fyi, im, at, usf, now, swing, by, the, room, ...   \n",
       "\n",
       "                              text_without_stopwords  \\\n",
       "0                       [hope, good, week, checking]   \n",
       "1                              [kgive, back, thanks]   \n",
       "2                                   [also, cbe, pay]   \n",
       "3  [complimentary, 4, star, ibiza, holiday, 10000...   \n",
       "4  [okmail, dear, dave, final, notice, collect, 4...   \n",
       "5            [aiya, discuss, later, lar, pick, u, 4]   \n",
       "6                                       [much, buzy]   \n",
       "7                 [please, ask, mummy, call, father]   \n",
       "8  [marvel, mobile, play, official, ultimate, spi...   \n",
       "9              [fyi, im, usf, swing, room, whenever]   \n",
       "\n",
       "                                        text_stemmed  \\\n",
       "0                          [hope, good, week, check]   \n",
       "1                               [kgive, back, thank]   \n",
       "2                                   [also, cbe, pay]   \n",
       "3  [complimentari, 4, star, ibiza, holiday, 10000...   \n",
       "4  [okmail, dear, dave, final, notic, collect, 4,...   \n",
       "5            [aiya, discuss, later, lar, pick, u, 4]   \n",
       "6                                       [much, buzi]   \n",
       "7                  [pleas, ask, mummi, call, father]   \n",
       "8  [marvel, mobil, play, offici, ultim, spiderman...   \n",
       "9                [fyi, im, usf, swing, room, whenev]   \n",
       "\n",
       "                                     text_lemmatized  \n",
       "0                       [hope, good, week, checking]  \n",
       "1                              [kgive, back, thanks]  \n",
       "2                                   [also, cbe, pay]  \n",
       "3  [complimentary, 4, star, ibiza, holiday, 10000...  \n",
       "4  [okmail, dear, dave, final, notice, collect, 4...  \n",
       "5             [aiya, discus, later, lar, pick, u, 4]  \n",
       "6                                       [much, buzy]  \n",
       "7                 [please, ask, mummy, call, father]  \n",
       "8  [marvel, mobile, play, official, ultimate, spi...  \n",
       "9              [fyi, im, usf, swing, room, whenever]  "
      ]
     },
     "execution_count": 14,
     "metadata": {},
     "output_type": "execute_result"
    }
   ],
   "source": [
    "def lemmatizing(tokenized_text):\n",
    "    text = [wn.lemmatize(word) for word in tokenized_text]\n",
    "    return text\n",
    "\n",
    "df['text_lemmatized'] = df['text_without_stopwords'].apply(lambda x: lemmatizing(x))\n",
    "\n",
    "df.head(10)"
   ]
  },
  {
   "cell_type": "code",
   "execution_count": null,
   "metadata": {},
   "outputs": [],
   "source": []
  }
 ],
 "metadata": {
  "kernelspec": {
   "display_name": "Python 3",
   "language": "python",
   "name": "python3"
  },
  "language_info": {
   "codemirror_mode": {
    "name": "ipython",
    "version": 3
   },
   "file_extension": ".py",
   "mimetype": "text/x-python",
   "name": "python",
   "nbconvert_exporter": "python",
   "pygments_lexer": "ipython3",
   "version": "3.6.6"
  }
 },
 "nbformat": 4,
 "nbformat_minor": 2
}
